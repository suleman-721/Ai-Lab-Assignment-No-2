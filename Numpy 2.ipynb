{
 "cells": [
  {
   "cell_type": "markdown",
   "metadata": {},
   "source": [
    "## Institute of Applied AI Engineers"
   ]
  },
  {
   "cell_type": "markdown",
   "metadata": {},
   "source": [
    "#### 1. Generate a 1D NumPy array containing numbers from -2 to 2 in increments of 0.2. Use optional start and step arguments of np.arange() function."
   ]
  },
  {
   "cell_type": "code",
   "execution_count": 3,
   "metadata": {
    "collapsed": false
   },
   "outputs": [
    {
     "name": "stdout",
     "output_type": "stream",
     "text": [
      "[ -2.00000000e+00  -1.80000000e+00  -1.60000000e+00  -1.40000000e+00\n",
      "  -1.20000000e+00  -1.00000000e+00  -8.00000000e-01  -6.00000000e-01\n",
      "  -4.00000000e-01  -2.00000000e-01  -4.44089210e-16   2.00000000e-01\n",
      "   4.00000000e-01   6.00000000e-01   8.00000000e-01   1.00000000e+00\n",
      "   1.20000000e+00   1.40000000e+00   1.60000000e+00   1.80000000e+00]\n"
     ]
    }
   ],
   "source": [
    "import numpy as np\n",
    "a = np.arange(-2,2,0.2)\n",
    "print(a)"
   ]
  },
  {
   "cell_type": "markdown",
   "metadata": {},
   "source": [
    "#### 2. Generate another 1D NumPy array containing 11 equally spaced values between 0.5 and 1.5. Extract every second element of the array"
   ]
  },
  {
   "cell_type": "code",
   "execution_count": 4,
   "metadata": {
    "collapsed": false
   },
   "outputs": [
    {
     "name": "stdout",
     "output_type": "stream",
     "text": [
      "[ 0.5  0.6  0.7  0.8  0.9  1.   1.1  1.2  1.3  1.4  1.5]\n"
     ]
    }
   ],
   "source": [
    "print(np.linspace(0.5,1.5,11))"
   ]
  },
  {
   "cell_type": "markdown",
   "metadata": {},
   "source": [
    "#### 3. Create a 4x4 array with arbitrary values.Extract every element from the second row.\n"
   ]
  },
  {
   "cell_type": "code",
   "execution_count": 5,
   "metadata": {
    "collapsed": false
   },
   "outputs": [
    {
     "name": "stdout",
     "output_type": "stream",
     "text": [
      "[[ 29.58201272  71.7122244   79.8542459   75.18435007]\n",
      " [ 67.30926802  82.10370322  34.11480665  12.0239744 ]\n",
      " [ 30.70279616  81.44053263  53.1778313   90.07957881]\n",
      " [  3.8163573    5.86779572  23.38350292  51.99640414]] \n",
      "\n",
      "\n",
      " [[ 67.30926802  82.10370322  34.11480665  12.0239744 ]]\n"
     ]
    }
   ],
   "source": [
    "ev=np.random.uniform(1, 100, size=16).reshape(4,4)\n",
    "print(ev,\"\\n\\n\\n\",ev[1:2,0:])"
   ]
  },
  {
   "cell_type": "markdown",
   "metadata": {},
   "source": [
    "#### 4. Extract every element from the third column"
   ]
  },
  {
   "cell_type": "code",
   "execution_count": 6,
   "metadata": {
    "collapsed": false
   },
   "outputs": [
    {
     "name": "stdout",
     "output_type": "stream",
     "text": [
      "[[ 29.58201272  71.7122244   79.8542459   75.18435007]\n",
      " [ 67.30926802  82.10370322  34.11480665  12.0239744 ]\n",
      " [ 30.70279616  81.44053263  53.1778313   90.07957881]\n",
      " [  3.8163573    5.86779572  23.38350292  51.99640414]] \n",
      "\n",
      "\n",
      " [ 79.8542459   34.11480665  53.1778313   23.38350292]\n"
     ]
    }
   ],
   "source": [
    "print(ev,\"\\n\\n\\n\",ev[0:,2])"
   ]
  },
  {
   "cell_type": "markdown",
   "metadata": {},
   "source": [
    "#### 5. Assign a value of 0.21 to upper left 2x2 subarray."
   ]
  },
  {
   "cell_type": "code",
   "execution_count": 7,
   "metadata": {
    "collapsed": false
   },
   "outputs": [
    {
     "name": "stdout",
     "output_type": "stream",
     "text": [
      "[[  0.2          0.2         79.8542459   75.18435007]\n",
      " [  0.2          0.2         34.11480665  12.0239744 ]\n",
      " [ 30.70279616  81.44053263  53.1778313   90.07957881]\n",
      " [  3.8163573    5.86779572  23.38350292  51.99640414]]\n"
     ]
    }
   ],
   "source": [
    "ev[0:2,0:2] = 0.2 \n",
    "print(ev)"
   ]
  },
  {
   "cell_type": "markdown",
   "metadata": {},
   "source": [
    "#### 6. Read an 2D array from the file exercise1_4.dat. You can usethe function np.loadtxt():\n",
    "data = np.loadtxt(‘exercise1_4.dat’)\n",
    "\n",
    "#### Split the array into four subblocks (upper left, upper right, lower left, lower right) using np.split(). Construct then the full array again with np.concatenate(). You can visualize the various arrays with matplotlib’s imshow(), i.e. import pylab pylab.imshow(data)"
   ]
  },
  {
   "cell_type": "code",
   "execution_count": 9,
   "metadata": {
    "collapsed": false
   },
   "outputs": [
    {
     "ename": "FileNotFoundError",
     "evalue": "[Errno 2] No such file or directory: 'exercise1_4.dat'",
     "output_type": "error",
     "traceback": [
      "\u001b[1;31m---------------------------------------------------------------------------\u001b[0m",
      "\u001b[1;31mFileNotFoundError\u001b[0m                         Traceback (most recent call last)",
      "\u001b[1;32m<ipython-input-9-4b277240476b>\u001b[0m in \u001b[0;36m<module>\u001b[1;34m()\u001b[0m\n\u001b[1;32m----> 1\u001b[1;33m \u001b[0mdata\u001b[0m \u001b[1;33m=\u001b[0m \u001b[0mnp\u001b[0m\u001b[1;33m.\u001b[0m\u001b[0mloadtxt\u001b[0m\u001b[1;33m(\u001b[0m\u001b[1;34m'exercise1_4.dat'\u001b[0m\u001b[1;33m)\u001b[0m\u001b[1;33m\u001b[0m\u001b[0m\n\u001b[0m\u001b[0;32m      2\u001b[0m \u001b[0mprint\u001b[0m\u001b[1;33m(\u001b[0m\u001b[0mdata\u001b[0m\u001b[1;33m)\u001b[0m\u001b[1;33m\u001b[0m\u001b[0m\n",
      "\u001b[1;32mC:\\Users\\AyazQureshi\\Anaconda3\\lib\\site-packages\\numpy\\lib\\npyio.py\u001b[0m in \u001b[0;36mloadtxt\u001b[1;34m(fname, dtype, comments, delimiter, converters, skiprows, usecols, unpack, ndmin)\u001b[0m\n\u001b[0;32m    896\u001b[0m                 \u001b[0mfh\u001b[0m \u001b[1;33m=\u001b[0m \u001b[0miter\u001b[0m\u001b[1;33m(\u001b[0m\u001b[0mopen\u001b[0m\u001b[1;33m(\u001b[0m\u001b[0mfname\u001b[0m\u001b[1;33m,\u001b[0m \u001b[1;34m'U'\u001b[0m\u001b[1;33m)\u001b[0m\u001b[1;33m)\u001b[0m\u001b[1;33m\u001b[0m\u001b[0m\n\u001b[0;32m    897\u001b[0m             \u001b[1;32melse\u001b[0m\u001b[1;33m:\u001b[0m\u001b[1;33m\u001b[0m\u001b[0m\n\u001b[1;32m--> 898\u001b[1;33m                 \u001b[0mfh\u001b[0m \u001b[1;33m=\u001b[0m \u001b[0miter\u001b[0m\u001b[1;33m(\u001b[0m\u001b[0mopen\u001b[0m\u001b[1;33m(\u001b[0m\u001b[0mfname\u001b[0m\u001b[1;33m)\u001b[0m\u001b[1;33m)\u001b[0m\u001b[1;33m\u001b[0m\u001b[0m\n\u001b[0m\u001b[0;32m    899\u001b[0m         \u001b[1;32melse\u001b[0m\u001b[1;33m:\u001b[0m\u001b[1;33m\u001b[0m\u001b[0m\n\u001b[0;32m    900\u001b[0m             \u001b[0mfh\u001b[0m \u001b[1;33m=\u001b[0m \u001b[0miter\u001b[0m\u001b[1;33m(\u001b[0m\u001b[0mfname\u001b[0m\u001b[1;33m)\u001b[0m\u001b[1;33m\u001b[0m\u001b[0m\n",
      "\u001b[1;31mFileNotFoundError\u001b[0m: [Errno 2] No such file or directory: 'exercise1_4.dat'"
     ]
    }
   ],
   "source": [
    "data = np.loadtxt('exercise1_4.dat')\n",
    "print(data)"
   ]
  },
  {
   "cell_type": "code",
   "execution_count": null,
   "metadata": {
    "collapsed": true
   },
   "outputs": [],
   "source": []
  }
 ],
 "metadata": {
  "anaconda-cloud": {},
  "kernelspec": {
   "display_name": "Python [Root]",
   "language": "python",
   "name": "Python [Root]"
  },
  "language_info": {
   "codemirror_mode": {
    "name": "ipython",
    "version": 3
   },
   "file_extension": ".py",
   "mimetype": "text/x-python",
   "name": "python",
   "nbconvert_exporter": "python",
   "pygments_lexer": "ipython3",
   "version": "3.5.2"
  }
 },
 "nbformat": 4,
 "nbformat_minor": 0
}
